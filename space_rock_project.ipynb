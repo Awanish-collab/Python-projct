{
 "metadata": {
  "language_info": {
   "codemirror_mode": {
    "name": "ipython",
    "version": 3
   },
   "file_extension": ".py",
   "mimetype": "text/x-python",
   "name": "python",
   "nbconvert_exporter": "python",
   "pygments_lexer": "ipython3",
   "version": "3.8.7-final"
  },
  "orig_nbformat": 2,
  "kernelspec": {
   "name": "python387jvsc74a57bd008b64dc7e9099eac269fb18b5d824c195a782a2ed4ec34aad5d0bbbc3d697e62",
   "display_name": "Python 3.8.7 64-bit"
  },
  "metadata": {
   "interpreter": {
    "hash": "7295505586504f8fd487789e0e3d921a659eda79e3f317ac1e920ad0beea5152"
   }
  }
 },
 "nbformat": 4,
 "nbformat_minor": 2,
 "cells": [
  {
   "source": [
    "## To count the number of each type of space rock"
   ],
   "cell_type": "markdown",
   "metadata": {}
  },
  {
   "cell_type": "code",
   "execution_count": 1,
   "metadata": {},
   "outputs": [
    {
     "output_type": "stream",
     "name": "stdout",
     "text": [
      "Artemis Rover Rock Scanner Starting\n"
     ]
    }
   ],
   "source": [
    "print(\"Artemis Rover Rock Scanner Starting\")"
   ]
  },
  {
   "source": [
    "we want to create some variables that will represent the count of the different types of rocks that Artemis found on the Moon. The specific rocks that we're looking for are: Basalt: The Mare Rock, Breccia: Shocked Rock, Highland Rock: Anorthosite, and Regolith Soil/Surface Layer. These types are the four main types of rocks found on the Moon.\n",
    "\n",
    "Let's make some variables with names of \"basalt\", \"breccia\", \"highland\", and \"regolith\". We can also set these variables to 0 since we've not yet counted any rocks. Finally, make a list called rockList that will store the names of every rock the rover found. We can make the list empty, setting it equal to brackets with nothing inside them."
   ],
   "cell_type": "markdown",
   "metadata": {}
  },
  {
   "cell_type": "code",
   "execution_count": 2,
   "metadata": {},
   "outputs": [],
   "source": [
    "basalt = 0\n",
    "breccia = 0\n",
    "highland = 0\n",
    "regolith = 0\n",
    "rockList = []"
   ]
  },
  {
   "cell_type": "code",
   "execution_count": 5,
   "metadata": {},
   "outputs": [
    {
     "output_type": "stream",
     "name": "stdout",
     "text": [
      "Reading Rocks\n\n"
     ]
    }
   ],
   "source": [
    "strPath = \"rocks.txt\"\n",
    "fileObject = open(strPath)\n",
    "line = fileObject.readline()\n",
    "print(line)"
   ]
  },
  {
   "cell_type": "code",
   "execution_count": 6,
   "metadata": {},
   "outputs": [
    {
     "output_type": "stream",
     "name": "stdout",
     "text": [
      "basalt\n\nbreccia\n\nhighland\n\nregolith\n\nhighland\n\nbreccia\n\nhighland\n\nregolith\n\nregolith\n\nbasalt\n\nhighland\n\nbasalt\n\nbreccia\n\nbreccia\n\nregolith\n\nbreccia\n\nhighland\n\nhighland\n\nbreccia\n\nbasalt\n"
     ]
    }
   ],
   "source": [
    "rockList = fileObject.readlines()\n",
    "\n",
    "for rock in rockList:\n",
    "    print(rock)\n",
    "\n",
    "fileObject.close()"
   ]
  },
  {
   "cell_type": "code",
   "execution_count": 7,
   "metadata": {},
   "outputs": [
    {
     "output_type": "execute_result",
     "data": {
      "text/plain": [
       "['basalt\\n',\n",
       " 'breccia\\n',\n",
       " 'highland\\n',\n",
       " 'regolith\\n',\n",
       " 'highland\\n',\n",
       " 'breccia\\n',\n",
       " 'highland\\n',\n",
       " 'regolith\\n',\n",
       " 'regolith\\n',\n",
       " 'basalt\\n',\n",
       " 'highland\\n',\n",
       " 'basalt\\n',\n",
       " 'breccia\\n',\n",
       " 'breccia\\n',\n",
       " 'regolith\\n',\n",
       " 'breccia\\n',\n",
       " 'highland\\n',\n",
       " 'highland\\n',\n",
       " 'breccia\\n',\n",
       " 'basalt']"
      ]
     },
     "metadata": {},
     "execution_count": 7
    }
   ],
   "source": [
    "rockList"
   ]
  },
  {
   "source": [
    "Now , In our application we have to add a function that will looks at a line of text, it tells us which type of rock it is, and it will increment the corresponding variables. "
   ],
   "cell_type": "markdown",
   "metadata": {}
  },
  {
   "cell_type": "code",
   "execution_count": 8,
   "metadata": {},
   "outputs": [],
   "source": [
    "# In the function , We can not modify or update that variable which created outside the function.\n",
    "# That's why , i'm passing the global keyword.\n",
    "def countMoonRocks(rockToID):\n",
    "    global basalt\n",
    "    global breccia\n",
    "    global highland\n",
    "    global regolith\n",
    "\n",
    "    rockToID = rockToID.lower()\n",
    "\n",
    "    if(\"basalt\" in rockToID):\n",
    "        print(\"Found a basalt\\n\")\n",
    "        basalt += 1\n",
    "    elif(\"breccia\" in rockToID):\n",
    "        print(\"Found a breccia\\n\")\n",
    "        breccia += 1\n",
    "    elif(\"highland\" in rockToID):\n",
    "        print(\"Found a highland\\n\")\n",
    "        highland += 1\n",
    "    elif(\"regolith\" in rockToID):\n",
    "        print(\"Found a regolith\\n\")\n",
    "        regolith += 1\n",
    "\n",
    "    return"
   ]
  },
  {
   "cell_type": "code",
   "execution_count": 9,
   "metadata": {},
   "outputs": [
    {
     "output_type": "stream",
     "name": "stdout",
     "text": [
      "Found a basalt\n\nFound a breccia\n\nFound a highland\n\nFound a regolith\n\nFound a highland\n\nFound a breccia\n\nFound a highland\n\nFound a regolith\n\nFound a regolith\n\nFound a basalt\n\nFound a highland\n\nFound a basalt\n\nFound a breccia\n\nFound a breccia\n\nFound a regolith\n\nFound a breccia\n\nFound a highland\n\nFound a highland\n\nFound a breccia\n\nFound a basalt\n\n"
     ]
    }
   ],
   "source": [
    "for rock in rockList:\n",
    "    countMoonRocks(rock)"
   ]
  },
  {
   "cell_type": "code",
   "execution_count": 12,
   "metadata": {},
   "outputs": [
    {
     "output_type": "stream",
     "name": "stdout",
     "text": [
      "Number of Basalt :  4\nNumber of Breccia :  6\nNumber of Highland :  6\nNumber of Regolith :  4\nThe max number of one type of rock found was : 6\nThe minimum number of one type of rock found was : 4\n"
     ]
    }
   ],
   "source": [
    "print(\"Number of Basalt : \", basalt)\n",
    "print(\"Number of Breccia : \", breccia)\n",
    "print(\"Number of Highland : \", highland)\n",
    "print(\"Number of Regolith : \", regolith)\n",
    "\n",
    "print(\"The max number of one type of rock found was :\", max(basalt, breccia, highland,regolith))\n",
    "print(\"The minimum number of one type of rock found was :\", min(basalt, breccia, highland, regolith))"
   ]
  },
  {
   "cell_type": "code",
   "execution_count": null,
   "metadata": {},
   "outputs": [],
   "source": []
  }
 ]
}